{
 "cells": [
  {
   "cell_type": "markdown",
   "metadata": {},
   "source": [
    "## Dataset Generation\n",
    "\n",
    "We’re using the **Faker** library to generate the dataset, which makes the process much easier.\n",
    "\n",
    "### Resources:\n",
    "- For more details about the Faker library, check out this article:  \n",
    "  [Generating Fake Data in Python with Faker and Drawdata](https://medium.com/@sangitapokhrel911/generating-fake-data-in-python-with-faker-and-drawdata-synthetic-data-generation-dc77d73e8521).\n",
    "\n",
    "- You can also find comprehensive guidance in the [official documentation](https://faker.readthedocs.io/en/master/).\n"
   ]
  },
  {
   "cell_type": "markdown",
   "metadata": {},
   "source": [
    " The Buyers dataset"
   ]
  },
  {
   "cell_type": "code",
   "execution_count": 7,
   "metadata": {},
   "outputs": [],
   "source": [
    "import csv\n",
    "from faker import Faker\n",
    "import random\n",
    "fake = Faker()\n",
    "with open('Buyers.csv', mode='w', newline='') as file:\n",
    "    writer = csv.writer(file)\n",
    "    writer.writerow(['BuyerID', 'BuyerName', 'BuyerAge', 'BuyerGender', 'BuyerSalary'])\n",
    "    for buyer_id in range(1, 10000 + 1):\n",
    "        writer.writerow([\n",
    "            buyer_id,\n",
    "            fake.name_male() if (gender := fake.random_element(elements=('male', 'female'))) == 'male' else fake.name_female(),\n",
    "            random.randint(12, 75),\n",
    "            gender,\n",
    "            round(random.uniform(3500, 11000), 2)\n",
    "        ])"
   ]
  },
  {
   "cell_type": "markdown",
   "metadata": {},
   "source": [
    "The Purchases dataset"
   ]
  },
  {
   "cell_type": "code",
   "execution_count": 6,
   "metadata": {},
   "outputs": [],
   "source": [
    "import csv\n",
    "import random\n",
    "\n",
    "with open('Purchases.csv', mode='w', newline='') as file:\n",
    "    writer = csv.writer(file)\n",
    "    writer.writerow(['purchID', 'BuyerID', 'purchPrice', 'purchNumItems'])\n",
    "    # purchase from 1 to 1,000,000\n",
    "    for purch_id in range(1, 1000000+1):  \n",
    "        buyer_id = (purch_id - 1) // 100 + 1  # Every buyer gets 100 purchases\n",
    "        purch_price = round(random.uniform(10, 100), 2)  # Random purchase price\n",
    "        num_items = random.randint(1, 10)  # Random number of items\n",
    "        \n",
    "        # Write the purchase data to the CSV file\n",
    "        writer.writerow([purch_id, buyer_id, purch_price, num_items])\n"
   ]
  }
 ],
 "metadata": {
  "kernelspec": {
   "display_name": "test",
   "language": "python",
   "name": "python3"
  },
  "language_info": {
   "codemirror_mode": {
    "name": "ipython",
    "version": 3
   },
   "file_extension": ".py",
   "mimetype": "text/x-python",
   "name": "python",
   "nbconvert_exporter": "python",
   "pygments_lexer": "ipython3",
   "version": "3.12.4"
  }
 },
 "nbformat": 4,
 "nbformat_minor": 2
}
